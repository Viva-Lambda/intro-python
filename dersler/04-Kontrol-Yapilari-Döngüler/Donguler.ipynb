{
 "cells": [
  {
   "cell_type": "markdown",
   "metadata": {},
   "source": [
    "# Python'da Donguler\n",
    "\n",
    "Döngü dedigimiz kavram, kuskusuz bir baska kavram ile \n",
    "koleksiyon/derleme ile beraber anilmali. \n",
    "Donguler en temelde derlemenin her bir elemanina ayni prosedürü uygulamak istedigimizde karsimiza çikar.\n",
    "Burada iki ana konu gundeme gelir:\n",
    "\n",
    "- Bir sonraki elemana nasil erisecegiz\n",
    "- Eldeki elemana ne yapacagiz\n",
    "\n",
    "Ilki koleksiyonun yapisina uygun bir protokolü uygulamayi gerekli kilar.\n",
    "Ikincisi koleksiyonun yapisindan ayri olarak dusunulebilir.\n",
    "\n",
    "Dolayisiyla bu iki konu esasen birbirinden bagimsiz olarak ele alinabilir.\n",
    "Biz isbu dersteki seviyeyi baslangiç duzeyinde tutmak istedigimizden, ilk unsuru detayli olarak konu edinmeyecegiz.\n",
    "Simdi basit bir dongu gorelim:"
   ]
  },
  {
   "cell_type": "code",
   "execution_count": 1,
   "metadata": {},
   "outputs": [
    {
     "name": "stdout",
     "output_type": "stream",
     "text": [
      "listenin elemani:  1   elemanin iki kati:  2\n",
      "listenin elemani:  2   elemanin iki kati:  4\n",
      "listenin elemani:  2   elemanin iki kati:  4\n",
      "listenin elemani:  3   elemanin iki kati:  6\n",
      "listenin elemani:  4   elemanin iki kati:  8\n",
      "listenin elemani:  5   elemanin iki kati:  10\n",
      "listenin elemani:  75   elemanin iki kati:  150\n"
     ]
    }
   ],
   "source": [
    "for i in [1, 2, 2, 3, 4, 5, 75]:\n",
    "    print(\"listenin elemani: \", str(i),\n",
    "          \"  elemanin iki kati: \", str(i * 2))"
   ]
  },
  {
   "cell_type": "markdown",
   "metadata": {},
   "source": [
    "Ornegi simdi analiz edelim.\n",
    "\n",
    "2-3. satirlar listenin elemanlarina yaptigimiz islemi ifade ediyorlar.\n",
    "Ne yapiyoruz ? Onlari terminalde gosteriyoruz. \n",
    "Ne yaparak gosteriyoruz? \n",
    "Ilkin karakter zincirine çevirip gosteriyoruz. \n",
    "Ikinci asamada da iki katini alip karakter zincirine çevirip \n",
    "gosteriyoruz.\n",
    "\n",
    "Bu gosterme islemini yaparken kullandigimiz degisken nedir ?\n",
    "`i`. \n",
    "Bu degisken nerede tanimlaniyor ? 1. satirda.\n",
    "O halde `for` dan sonra gelen degisken adi bizim dongunun govdesinde\n",
    "`in`den sonra gelen koleksiyonun elemanlarina erismemizi sagliyor.\n",
    "\n",
    "Benzer sekilde çalisan bir ornek daha gorelim:"
   ]
  },
  {
   "cell_type": "code",
   "execution_count": 2,
   "metadata": {},
   "outputs": [
    {
     "name": "stdout",
     "output_type": "stream",
     "text": [
      "indeksim:  0   eleman:  5\n",
      "indeksim:  1   eleman:  6\n",
      "indeksim:  2   eleman:  5\n",
      "indeksim:  3   eleman:  5\n",
      "indeksim:  4   eleman:  5\n",
      "indeksim:  5   eleman:  5\n",
      "indeksim:  6   eleman:  6\n",
      "indeksim:  7   eleman:  9\n"
     ]
    }
   ],
   "source": [
    "mylst = [5,6,5,5,5,5,6,9]\n",
    "for index, el in enumerate(mylst):\n",
    "    print(\"indeksim: \", str(index), \"  eleman: \", str(el))"
   ]
  },
  {
   "cell_type": "markdown",
   "metadata": {},
   "source": [
    "Ayni mantik yalnizca `enumerate` islemi, bize koleksiyonun elemanlarinin yaninda o elemanlarin koleksiyonda hangi sirada oldugunu da veriyor. \n",
    "\n",
    "Bir ornek daha verelim:"
   ]
  },
  {
   "cell_type": "code",
   "execution_count": 13,
   "metadata": {},
   "outputs": [
    {
     "name": "stdout",
     "output_type": "stream",
     "text": [
      "sozluk anahtari:  bu\n",
      "sozluk anahtari:  benim\n",
      "sozluk anahtari:  ait\n"
     ]
    }
   ],
   "source": [
    "mydict = {\"bu\": \"anahtar\", \"benim\": \"sozlugume\", \"ait\": \"anahtardir\"}\n",
    "for k in mydict:\n",
    "    print(\"sozluk anahtari: \", k)"
   ]
  },
  {
   "cell_type": "markdown",
   "metadata": {},
   "source": [
    "Buradaki sorunu iyi gorelim. \n",
    "Sorun su, ayni siraya sahip iki deger var.\n",
    "Ornegin ilk siradaki iki aday `bu` ve `anahtar`. \n",
    "Hangisine erisecegiz ?\n",
    "Python eger bir sey belirtilmemisse ilkini yani `:`'nin solundakini\n",
    "bize erisilebilir kiliyor.\n",
    "\n",
    "Simdi digerlerine nasil erisebildigimizi gorelim:"
   ]
  },
  {
   "cell_type": "code",
   "execution_count": 10,
   "metadata": {},
   "outputs": [
    {
     "name": "stdout",
     "output_type": "stream",
     "text": [
      "anahtar:  bu\n",
      "anahtar:  benim\n",
      "anahtar:  ait\n"
     ]
    }
   ],
   "source": [
    "mydict = {\"bu\": \"anahtar\", \"benim\": \"sozlugume\", \"ait\": \"anahtardir\"}\n",
    "for k in mydict.keys():\n",
    "    print(\"anahtar: \", k)"
   ]
  },
  {
   "cell_type": "code",
   "execution_count": 11,
   "metadata": {},
   "outputs": [
    {
     "name": "stdout",
     "output_type": "stream",
     "text": [
      "deger:  anahtar\n",
      "deger:  sozlugume\n",
      "deger:  anahtardir\n"
     ]
    }
   ],
   "source": [
    "mydict = {\"bu\": \"anahtar\", \"benim\": \"sozlugume\", \"ait\": \"anahtardir\"}\n",
    "for v in mydict.values():\n",
    "    print(\"deger: \", v)"
   ]
  },
  {
   "cell_type": "code",
   "execution_count": 12,
   "metadata": {},
   "outputs": [
    {
     "name": "stdout",
     "output_type": "stream",
     "text": [
      "anahtar:  bu   deger:  anahtar\n",
      "anahtar:  benim   deger:  sozlugume\n",
      "anahtar:  ait   deger:  anahtardir\n"
     ]
    }
   ],
   "source": [
    "mydict = {\"bu\": \"anahtar\", \"benim\": \"sozlugume\", \"ait\": \"anahtardir\"}\n",
    "for k, v in mydict.items():\n",
    "    print(\"anahtar: \", k, \"  deger: \", v)"
   ]
  },
  {
   "cell_type": "markdown",
   "metadata": {},
   "source": [
    "Yukaridaki ornekler bize bir koleksiyonun elemanlarina nasil ulasacagimizi gosteriyorlar, ancak bazen elimizde ayni islemin konusu\n",
    "olan birden fazla koleksiyon olabiliyor.\n",
    "\n",
    "Ornegin elinizde bir excel dosyasi olsun ve sutunlarindaki toplami bulmaya çalisiyor olalim.\n",
    "\n",
    "```\n",
    "+----+----+----+----+\n",
    "|    | A  | B  | C  |\n",
    "+----+----+----+----+\n",
    "| 1  | 12 | 3  | 46 |\n",
    "+----+----+----+----+\n",
    "| 2  | 13 | 8  | 63 |\n",
    "+----+----+----+----+\n",
    "| 3  | 62 | 41 | 7  |\n",
    "+----+----+----+----+\n",
    "\n",
    "A = ?\n",
    "B = ?\n",
    "C = ?\n",
    "```\n",
    "\n",
    "Ornegimizi gorelim:"
   ]
  },
  {
   "cell_type": "code",
   "execution_count": 15,
   "metadata": {},
   "outputs": [
    {
     "name": "stdout",
     "output_type": "stream",
     "text": [
      "Toplam:  A: 87 B: 52 C: 116\n"
     ]
    }
   ],
   "source": [
    "liste1 = [12, 3, 46]\n",
    "liste2 = [13, 8, 63]\n",
    "liste3 = [62, 41, 7]\n",
    "\n",
    "liste1_eleman_sayisi = len(liste1)\n",
    "elemanlarin_sira_numaralari = range(0, liste1_eleman_sayisi)\n",
    "abc_listesi = []\n",
    "for sira_no in elemanlarin_sira_numaralari:\n",
    "    el1 = liste1[sira_no]\n",
    "    el2 = liste2[sira_no]\n",
    "    el3 = liste3[sira_no]\n",
    "    toplam = el1 + el2 + el3\n",
    "    abc_listesi.append(toplam)\n",
    "    \n",
    "print(\"Toplam: \", \n",
    "      \"A:\", str(abc_listesi[0]),\n",
    "     \"B:\", str(abc_listesi[1]),\n",
    "     \"C:\", str(abc_listesi[2]))"
   ]
  },
  {
   "cell_type": "markdown",
   "metadata": {},
   "source": [
    "Yani ne yaptik, listelerin eleman sayilarinin esit olmasini kullanarak\n",
    "tek seferde hepsinin elemanlarina erismek için bir protokol kullandik.\n",
    "Neydi o protokol ? Elemanlarin sira numalarini `range` islemiyle\n",
    "olusturduk. Ondan sonra bu olusturdugumuz sira numaralari uzerine bir\n",
    "dongu kurarak her listenin ilgili elemanina eristik ve islemimizi \n",
    "yaptik."
   ]
  },
  {
   "cell_type": "markdown",
   "metadata": {},
   "source": [
    "En temelde dongulerin elemanlara erismemizi ve onlara bazi islemleri \n",
    "uygulamamizi saglayan kisa yollar oldugunu da fark edelim lutfen. \n",
    "Basit islemler için Python bazi baska kisa yollar da sunuyor. Ornegin: "
   ]
  },
  {
   "cell_type": "code",
   "execution_count": 16,
   "metadata": {},
   "outputs": [
    {
     "name": "stdout",
     "output_type": "stream",
     "text": [
      "Listedeki çift elemanlarin 3 kati:  [0, 6, 12, 18, 24, 30]\n"
     ]
    }
   ],
   "source": [
    "mylst = [i * 3 for i in range(12) if i % 2 == 0]\n",
    "# range(12) == [0,1,2,3,4,5,6,7,8,9,10,11]\n",
    "print(\"Listedeki çift elemanlarin 3 kati: \", str(mylst))"
   ]
  },
  {
   "cell_type": "code",
   "execution_count": 18,
   "metadata": {},
   "outputs": [
    {
     "name": "stdout",
     "output_type": "stream",
     "text": [
      "[0, 6, 12, 18, 24, 30]\n"
     ]
    }
   ],
   "source": [
    "# Ayni islem kisa yol kullanmadan\n",
    "mylst = []\n",
    "for i in range(12):\n",
    "    residu = i % 2\n",
    "    if residu == 0:\n",
    "        mylst.append(i*3)\n",
    "        \n",
    "print(mylst)"
   ]
  },
  {
   "cell_type": "markdown",
   "metadata": {},
   "source": [
    "Ayni kisa yol sozlukler içinde geçerli"
   ]
  },
  {
   "cell_type": "code",
   "execution_count": 19,
   "metadata": {},
   "outputs": [
    {
     "name": "stdout",
     "output_type": "stream",
     "text": [
      "{'anahtar 0': 'deger 0', 'anahtar 2': 'deger 6', 'anahtar 4': 'deger 12', 'anahtar 6': 'deger 18', 'anahtar 8': 'deger 24', 'anahtar 10': 'deger 30'}\n"
     ]
    }
   ],
   "source": [
    "mydict = {\"anahtar \" + str(i):\"deger \"+ str(i * 3) for i in range(12) if i%2==0}\n",
    "print(str(mydict))"
   ]
  },
  {
   "cell_type": "code",
   "execution_count": 20,
   "metadata": {},
   "outputs": [
    {
     "name": "stdout",
     "output_type": "stream",
     "text": [
      "{'anahtar 0': 'deger 0', 'anahtar 2': 'deger 6', 'anahtar 4': 'deger 12', 'anahtar 6': 'deger 18', 'anahtar 8': 'deger 24', 'anahtar 10': 'deger 30'}\n"
     ]
    }
   ],
   "source": [
    "# kisa yol olmadan\n",
    "mydict = {}\n",
    "for i in range(12):\n",
    "    residu = i % 2\n",
    "    if residu == 0:\n",
    "        cle = \"anahtar \" + str(i)\n",
    "        val = \"deger \" + str(i * 3)\n",
    "        mydict[cle] = val\n",
    "print(mydict)"
   ]
  },
  {
   "cell_type": "markdown",
   "metadata": {},
   "source": [
    "Simdi çok kisaca kendi yazdigimiz objeleri nasil dongu islemine \n",
    "tabi kilabiliriz onu gorelim. \n",
    "Baslangiç seviyesinde programlarin yonettigi baglamlar çok temel duzeyde oldugu için genellikle bu çok kullanilan bir yontem degildir.\n",
    "Ancak genel kultur olmasi bakimindan buraya basit bir ornek koymus olalim:"
   ]
  },
  {
   "cell_type": "code",
   "execution_count": 21,
   "metadata": {},
   "outputs": [],
   "source": [
    "class Dongulenebilir:\n",
    "    def __init__(self):\n",
    "        self.el1 = \"eleman 1\"\n",
    "        self.el2 = \"eleman 2\"\n",
    "        self.el3 = \"eleman 3\"\n",
    "    \n",
    "    def __iter__(self):\n",
    "        return iter([self.el1, self.el2, self.el3])"
   ]
  },
  {
   "cell_type": "code",
   "execution_count": 22,
   "metadata": {},
   "outputs": [
    {
     "name": "stdout",
     "output_type": "stream",
     "text": [
      "eleman 1\n",
      "eleman 2\n",
      "eleman 3\n"
     ]
    }
   ],
   "source": [
    "obj = Dongulenebilir()\n",
    "for el in obj:\n",
    "    print(el)"
   ]
  },
  {
   "cell_type": "markdown",
   "metadata": {},
   "source": [
    "Burada olan sey esasen çok karmasik degil. `Dongulenebilir` tipinin sahip oldugu `__iter__` metodu bu tipin `for ... in ...` kontrol yapisi altinda nasil davranacagini belirliyor.\n",
    "Yani bunyesindeki elemanlari bir isleme tabi tutmasi için nasil sunacagini belirliyor.\n",
    "Burada biz ufak bir hile yapip, `list` objesini `for ... in ...` e yolluyoruz. \n",
    "\n",
    "Daha formel terimlerle anlatacak olursak, `for ... in ...` kontrol yapisi `in`'in saginda olan koleksiyondan bir yineleyici istiyor, \n",
    "yani bir elemandan diger elemana geçmesini saglayan ve dolayisiyla ayni islemi her eleman için yinelemesini saglayan bir *islem/metod* istiyor.\n",
    "Biz bu ornekte bunu bir liste olarak sunuyoruz. \n",
    "Baska sekillerde de sunabilirdik, ancak buraya kadarini bilmek baslangiç ve orta seviye için dahi yeterli olacaktir."
   ]
  },
  {
   "cell_type": "code",
   "execution_count": null,
   "metadata": {},
   "outputs": [],
   "source": []
  }
 ],
 "metadata": {
  "kernelspec": {
   "display_name": "Python 3",
   "language": "python",
   "name": "python3"
  },
  "language_info": {
   "codemirror_mode": {
    "name": "ipython",
    "version": 3
   },
   "file_extension": ".py",
   "mimetype": "text/x-python",
   "name": "python",
   "nbconvert_exporter": "python",
   "pygments_lexer": "ipython3",
   "version": "3.7.6"
  }
 },
 "nbformat": 4,
 "nbformat_minor": 2
}
