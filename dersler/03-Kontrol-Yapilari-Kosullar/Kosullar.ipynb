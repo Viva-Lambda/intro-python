{
 "cells": [
  {
   "cell_type": "markdown",
   "metadata": {},
   "source": [
    "## Python'da Kosullar\n",
    "\n",
    "Kosullar, seçme kavramini formellestirmemize yarayan yapilardir.\n",
    "Bu formellestirmenin somut hali programin akis/yurume yonunu testler \n",
    "araciligiyla degistirmektir. Bu testler iki degerli ifadeler seklinde cereyan eder.\n",
    "\n",
    "Diyelim ki bir programin kodunu okuyorsunuz, bu programdaki kosul \n",
    "ifadelerini nasil degerlendireceksiniz ? Esasen anahtar kelimeden sonraki bolumu kafanizda paranteze alip, \"Buradaki ifade 'dogru' olarak degerlendirilen bir ifade mi?\" sorusunu sorun. Eger dogru ise, program bir yone, yanlis ise baska bir yone evrilecek, dolayisiyla cevabiniza gore programin akis yonunu tayin edebileceksiniz.\n",
    "\n",
    "Genel olarak, bir programin akisini iki degerli ifadelerle kontrol etmemizi saglayan sozdizimi bilesenlerine *kontrol akisi talimatlari* (control flow statements) denir. \n",
    "Python dilinde en sık kullanilan kontrol akisi talimatlari `if` ve `else`, `elif` dir. Nasil kullanildiklarini asagida gorecegiz.\n",
    "\n",
    "`if` ile ilk ornegimize bakalim."
   ]
  },
  {
   "cell_type": "code",
   "execution_count": null,
   "metadata": {},
   "outputs": [],
   "source": [
    "degiskenim = 11\n",
    "ifadem = degiskenim < 10\n",
    "if ifadem:\n",
    "    print(\"Degiskenimin degeri 10'dan kuçuk\")\n",
    "print(\"bitti\")"
   ]
  },
  {
   "cell_type": "markdown",
   "metadata": {},
   "source": [
    "Yazidigimiz bolumun satir satir analizi:\n",
    "\n",
    "- 1.satir: `degiskenim` degiskenine 11 degerini atiyorum\n",
    "\n",
    "- 2.satir: `ifadem` degiskenine, `degiskenim 10'dan kuçuktur` ifadesini\n",
    "    atiyorum. `<` bir karsilastirma operatoru. Solundaki sagindakinden\n",
    "    kuçukse `True` degerini veriyor, eger degilse `False` degerini veriyor.\n",
    "    Esasen, ornegin `+` islecinden farki yok: `1 + 1 = 2`, `12 < 10 =False`.\n",
    "    Ornegimizde degiskenin deger 11 oldugundan `ifadem` degiskeninin degeri\n",
    "    `False` olacaktir.\n",
    "\n",
    "- 3.satir: `if ifadem` bolumunu soyle okuyalim. Eger `ifadem`in degeri\n",
    "    `True` ise altta kalan satirlar, bu ornekte 4. satir oluyor,\n",
    "     çalistirilacak, degilse, `False` ise, ilgili satirlar atlanacak.\n",
    "    \n",
    "- 4.satir: `ifadem`in degeri `False` oldugundan mutevellit, bu satir \n",
    "    degerlendirilmeyecektir, ama `ifadem`in degeri `True` olsaydi, `print`\n",
    "    ile baslayan talimat çalistirilacakti.\n",
    "    \n",
    "- 5.satir: `bitti` terminalde gosteriliyor."
   ]
  },
  {
   "cell_type": "markdown",
   "metadata": {},
   "source": [
    "Programin akis yonunun, verdigimiz `ifadem` araciligiyla nasil degistigini fark edelim.\n",
    "Onun alacagi degere gore program ya 4. satiri çalistiriliyor ya da çalistirmadan geçiliyor."
   ]
  },
  {
   "cell_type": "code",
   "execution_count": null,
   "metadata": {},
   "outputs": [],
   "source": [
    "vari = 11\n",
    "ifd1 = vari < 10\n",
    "ifd2 = vari > 10 or vari == 10\n",
    "if ifd1:\n",
    "    print(\"degiskenim 10'dan kuçuk\")\n",
    "if ifd2:\n",
    "    print(\"degiskenim 10'dan buyuk veya ona esit\")\n",
    "print(\"Bitti\")"
   ]
  },
  {
   "cell_type": "markdown",
   "metadata": {},
   "source": [
    "Bir onceki hucreyle farki `ifd2` ifadesinin degeri `True` oluyor ve ilgili talimatlar uygulaniyor.\n",
    "\n",
    "Simdi sorun su, `ifd2` ve `ifd1` degiskenlerinin degeri ayni degiskene dayaniyorlar. `vari` degisikeni uzerinden kurulan mustereklik, \n",
    "programin yaziminda kullandigimiz ifadelerde kendisini gostermiyor. \n",
    "Halbuki birbiriyle mantiksal iliskisi olan ifadeleri gruplamak, programin anlasilmasini kolaylastiran bir unsur.\n",
    "\n",
    "Ayni programi bu mantiki iliski goz onune alinacak sekilde yeniden yazalim:"
   ]
  },
  {
   "cell_type": "code",
   "execution_count": null,
   "metadata": {},
   "outputs": [],
   "source": [
    "vari = 11\n",
    "ifd1 = vari < 10\n",
    "if ifd1:\n",
    "    print(\"degiskenim 10'dan kuçuk\")\n",
    "if not ifd1:\n",
    "    print(\"degiskenim 10'dan buyuk veya ona esit\")\n",
    "print(\"Bitti\")"
   ]
  },
  {
   "cell_type": "markdown",
   "metadata": {},
   "source": [
    "Bu haliyle hem programin akisini belirleyen unsurun `vari` degiskenine bagli \n",
    "olarak tanimladigimiz `ifd1`in aldigi deger oldugu daha gorunur oldu. \n",
    "Hem de daha kisa bir programa sahip olduk. \n",
    "Onceki programimiz, 8 satirlikti, bu ise 7 satirlik.\n",
    "\n",
    "Python yukaridaki programimizin aynisini yazmamiz için bize `else` anahtar sozcugunu de tanimliyor:"
   ]
  },
  {
   "cell_type": "code",
   "execution_count": null,
   "metadata": {},
   "outputs": [],
   "source": [
    "vari = 11\n",
    "ifd1 = vari < 10\n",
    "if ifd1:\n",
    "    print(\"degiskenim 10'dan kuçuk\")\n",
    "else:  # if not ifd1 ile ayni anlama geliyor\n",
    "    print(\"degiskenim 10'dan buyuk veya ona esit\")\n",
    "print(\"Bitti\")"
   ]
  },
  {
   "cell_type": "markdown",
   "metadata": {},
   "source": [
    "Buraya kadar guzel ancak, diyelim ki elimdeki kosullar `vari` gibi tek bir \n",
    "degiskene dayanmiyorlar veya onun degerine iliskin baska unsurlarla da ilgileniyorlar.\n",
    "Ornegin `vari`'in degeri 10'a esitse, bir talimat, degilse, baska bir talimat, eger `vari` çift sayi ise bir talimat, degilse baska bir talimat gerçeklestirmek istiyoruz diyelim.\n",
    "Yani elimizdeki kosullar `vari` degiskenine dayaniyor olmakla beraber mantiki bir iliskiye girmiyorlar.\n",
    "O zaman ne yapmali ?\n",
    "\n",
    "Bu bu durumu çok benzer iki sekilde ele almaya çalisacagiz. Hemen ardindan \n",
    "aralarindaki benzerligin bir hayli yaniltici oldugunu gorecegiz, ve bunun\n",
    "nedenini açiklamaya çalisacagiz."
   ]
  },
  {
   "cell_type": "code",
   "execution_count": null,
   "metadata": {},
   "outputs": [],
   "source": [
    "vari = 10\n",
    "ifd1 = vari < 10\n",
    "ifd2 = vari == 10\n",
    "ifd3 = vari > 10 # .\n",
    "ifd4 = (vari % 2) == 0 # vari çift bir sayidir\n",
    "if ifd1:\n",
    "    print(\"10'dan kuçuk\")\n",
    "if ifd2:\n",
    "    print(\"10'a esit\")\n",
    "if ifd3:\n",
    "    print(\"10'dan buyuk\")\n",
    "if ifd4:\n",
    "    print(\"çift sayidir\")\n",
    "    \n",
    "print(\"Bitti\")"
   ]
  },
  {
   "cell_type": "markdown",
   "metadata": {},
   "source": [
    "Simdi ikinci sekli gorelim:"
   ]
  },
  {
   "cell_type": "code",
   "execution_count": null,
   "metadata": {},
   "outputs": [],
   "source": [
    "vari = 10\n",
    "ifd1 = vari < 10\n",
    "ifd2 = vari == 10\n",
    "ifd3 = vari > 10 # .\n",
    "ifd4 = (vari % 2) == 0 # vari çift bir sayidir\n",
    "if ifd1:\n",
    "    print(\"10'dan kuçuk\")\n",
    "elif ifd2:\n",
    "    print(\"10'a esit\")\n",
    "elif ifd3:\n",
    "    print(\"10'dan buyuk\")\n",
    "elif ifd4:\n",
    "    print(\"çift sayidir\")\n",
    "    \n",
    "print(\"Bitti\")"
   ]
  },
  {
   "cell_type": "markdown",
   "metadata": {},
   "source": [
    "Aralarindaki fark daha da belli etmek için programin akisini 6. satirdan\n",
    "itibaren soze dokuyorum:\n",
    "\n",
    "Ilki:\n",
    "\n",
    "- 6.satir: Eger `ifd1`in degeri `True` ise, alttaki bloku uygula.\n",
    "- 8.satir: Eger `ifd2`in degeri `True` ise, alttaki bloku uygula.\n",
    "- 10.satir: Eger `ifd3`in degeri `True` ise, alttaki bloku uygula.\n",
    "- 12.satir: Eger `ifd3`in degeri `True` ise, alttaki bloku uygula.\n",
    "\n",
    "Ikincisi:\n",
    "\n",
    "- 6.satir: Eger `ifd1`in degeri `True` ise, alttaki bloku uygula.\n",
    "- 8.satir: Yok degilse eger, `ifd2`in degeri `True` ise, alttaki bloku uygula.\n",
    "- 10.satir: Yok o da degilse eger, `ifd3`in degeri `True` ise, alttaki bloku uygula.\n",
    "- 12.satir: Yok o da degilse eger, `ifd4`in degeri `True` ise, alttaki bloku uygula.\n",
    "\n",
    "Yani 8. satirin uygulanmasi 6. satirdaki ifadenin dogru olmasina bagli, 10. satirin blokunun uygulanmasi, 6. ve 8. satira, 12. satir, 6-10 satirlarina bagli.\n",
    "Dolayisiyla ornegin 6. satirdaki ifade dogru ise 8 - 12. satirlari komple \n",
    "atliyoruz, ancak ilk hucredeki ornekte, 6. satirin degerinden bagimsiz olarak butun satirlar degerlendiriliyor.\n",
    "\n",
    "\n",
    "Simdi kosullari kullanmanin bir baska yolunu daha gorelim:"
   ]
  },
  {
   "cell_type": "code",
   "execution_count": null,
   "metadata": {
    "collapsed": true
   },
   "outputs": [],
   "source": [
    "def goster_20_den_kucukse(i: int):\n",
    "    if i < 20:\n",
    "        return print(\"Simdi argumanimin degeri 20'den kuçuk: \", str(i))\n",
    "    print(\"Su anki degeri: \", str(i))\n",
    "    i = i - 2\n",
    "    print(\"Bir sonraki degeri: \", str(i))\n",
    "    goster_20_den_kucukse(i)"
   ]
  },
  {
   "cell_type": "markdown",
   "metadata": {},
   "source": [
    "Simdi islemimizin ne yaptigini gorelim:"
   ]
  },
  {
   "cell_type": "code",
   "execution_count": null,
   "metadata": {},
   "outputs": [],
   "source": [
    "goster_20_den_kucukse(31)"
   ]
  },
  {
   "cell_type": "markdown",
   "metadata": {},
   "source": [
    "`goster_20_den_kucukse` islemi yinelgen/geri donuslu islemler sinifina \n",
    "dahil.\n",
    "\n",
    "\n",
    "Bu islemi iki kisima ayirabiliriz:\n",
    "\n",
    "- Sonuç kosulu: 2. ve 3. satir\n",
    "- Programi sonuç kosuluna iten talimatlar: 4 - 6\n",
    "\n",
    "Yinelgen islemler donguleri kosullari kullanarak tatbik etmemizi sagliyor."
   ]
  },
  {
   "cell_type": "code",
   "execution_count": null,
   "metadata": {
    "collapsed": true
   },
   "outputs": [],
   "source": [
    "def dongum(eskilst: list, yenilst: list, islemim):\n",
    "    \"basit bir dongu\"\n",
    "    if not eskilst:\n",
    "        return yenilst\n",
    "    myel = eskilst.pop(0)\n",
    "    transformed_element = islemim(myel)\n",
    "    yenilst.append(transformed_element)\n",
    "    #### info sur la liste ####\n",
    "    print(\"#############################\")\n",
    "    print(\"Donusen eleman: \", str(transformed_element))\n",
    "    print(\"Su anki eleman: \", str(myel))\n",
    "    print(\"listenin onceki hali: \", str(eskilst))\n",
    "    print(\"listenin su anki hali: \", str(yenilst))\n",
    "    print(\"#############################\")\n",
    "    \n",
    "    dongum(eskilst, yenilst, islemim)"
   ]
  },
  {
   "cell_type": "code",
   "execution_count": null,
   "metadata": {},
   "outputs": [],
   "source": [
    "def myfn(x: int): return x ** 2\n",
    "dongum(eskilst=[1, 2, 3, 4, 5], yenilst=[], islemim=myfn)"
   ]
  },
  {
   "cell_type": "markdown",
   "metadata": {},
   "source": [
    "Bu islem bir hayli sık kullanilan bir yapi, dolayisiyla, Python buna dair \n",
    "bir kisa yol veriyor: "
   ]
  },
  {
   "cell_type": "code",
   "execution_count": null,
   "metadata": {},
   "outputs": [],
   "source": [
    "def myfn(x: int): return x ** 2\n",
    "foo = map(myfn, [1, 2, 3, 4, 5])\n",
    "print(list(foo))"
   ]
  },
  {
   "cell_type": "markdown",
   "metadata": {},
   "source": [
    "`dongum` isleminin kisimlari sunlar:\n",
    "\n",
    "- 3 - 4: Sonuç kosulu\n",
    "- 5 - 7: Programi sonuca iten bolum."
   ]
  },
  {
   "cell_type": "markdown",
   "metadata": {},
   "source": [
    "Farkli bir anahtar kelime kullaniyor olsa da benzer bir mantigi `while` ile \n",
    "de tatbik edebiliriz. \n",
    "\n",
    "`dongum` islemini `while` ile yeniden yazalim:"
   ]
  },
  {
   "cell_type": "code",
   "execution_count": null,
   "metadata": {},
   "outputs": [],
   "source": [
    "def dongum_while(lst: list, myfnc):\n",
    "    newlst = []\n",
    "    while lst:\n",
    "        el = lst.pop(0)\n",
    "        transformed = myfnc(el)\n",
    "        newlst.append(transformed)\n",
    "    return newlst\n",
    "\n",
    "mlst = dongum_while([1, 2, 3, 4, 5], myfnc=myfn)\n",
    "print(mlst)"
   ]
  }
 ],
 "metadata": {
  "kernelspec": {
   "display_name": "Python 3",
   "language": "python",
   "name": "python3"
  },
  "language_info": {
   "codemirror_mode": {
    "name": "ipython",
    "version": 3
   },
   "file_extension": ".py",
   "mimetype": "text/x-python",
   "name": "python",
   "nbconvert_exporter": "python",
   "pygments_lexer": "ipython3",
   "version": "3.5.2"
  }
 },
 "nbformat": 4,
 "nbformat_minor": 2
}
