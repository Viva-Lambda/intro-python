{
 "cells": [
  {
   "cell_type": "markdown",
   "metadata": {},
   "source": [
    "## Python'da Temel GÇ (Girdi Çikti - IO)\n",
    "\n",
    "GÇ adi altina toplanan islemler programlama dilinin dis dunya ile iletisim kurmasini saglarlar.\n",
    "Dis dunyadan kasit burada, isletim sistemi ve internettir, yani program dosyasi içine konmamis olanlar. Ornegin bilgisayarinizda bir yerde kayitli bir metin dosyasi vs.\n",
    "\n",
    "\n",
    "Asagidaki hucrede bilgisayarinizdaki bir dosyayi ikinci satirdan itibaren, liste veri tipine donusturen bir islemi serh ediyorum. \n",
    "Hizlica bir goz atin detayli analizini ardindan gelen hucrede bulacaksiniz.. \n",
    "Onun disinda python [referansinin](https://docs.python.org/3.7/library/io.html) konuyla ilgili bolumune de bakmayi unutmayiniz\n",
    "\n",
    "Iste ilk ornegimiz:"
   ]
  },
  {
   "cell_type": "code",
   "execution_count": null,
   "metadata": {
    "collapsed": true
   },
   "outputs": [],
   "source": [
    "def metin_oku(dosya_yolu: str, baslama_satiri=2):\n",
    "    \"\"\"\n",
    "    Dosya yolunda bulunani belirtileni belirtilen satirdan itibaren liste \n",
    "    olarak okur.\n",
    "    \n",
    "    Argumanlar\n",
    "    -----------\n",
    "    \n",
    "    dosya_yolu: \n",
    "        dosyanin isletim sisteminde bulundugu yer. \n",
    "        Ornegin C:\\\\Windows\\dosya.txt veya /home/usrname/Documents/dosya.txt\n",
    "    \n",
    "    baslama_satiri:\n",
    "        Pozitif bir tam sayi. Ornegin metin 20 satirdan olusuyorsa\n",
    "        metinin satirlarindan olusan listeyi belirtilen satirdan\n",
    "        baslatmamizi saglayan arguman. \n",
    "    \n",
    "    Uyarilar\n",
    "    ------\n",
    "    \n",
    "    ValueError: \n",
    "        Baslangiç satiri okunan dosyanin satir sayisindan fazla ise\n",
    "        bu uyari gosterilir\n",
    "    \n",
    "    \"\"\"\n",
    "    with open(dosya_yolu, \"r\", encoding=\"utf-8\", newline=\"\\n\") as fd:\n",
    "        txt = fd.readlines()\n",
    "        if len(txt) <= baslama_satiri:\n",
    "            raise ValueError('Baslangic satiri metin satir sayisindan buyuk')\n",
    "        txt = txt[baslama_satiri:] \n",
    "        txt = [t.strip() for t in txt] \n",
    "    return txt"
   ]
  },
  {
   "cell_type": "code",
   "execution_count": null,
   "metadata": {
    "collapsed": true
   },
   "outputs": [],
   "source": [
    "def metin_oku(dosya_yolu: str, baslama_satiri=2):\n",
    "    \"\"\"\n",
    "    Dosya yolunda bulunani belirtileni belirtilen satirdan itibaren liste \n",
    "    olarak okur.\n",
    "    \n",
    "    Argumanlar\n",
    "    -----------\n",
    "    \n",
    "    dosya_yolu: \n",
    "        dosyanin isletim sisteminde bulundugu yer. \n",
    "        Ornegin C:\\\\Windows\\dosya.txt veya /home/usrname/Documents/dosya.txt\n",
    "    \n",
    "    baslama_satiri:\n",
    "        Pozitif bir tam sayi. Ornegin metin 20 satirdan olusuyorsa\n",
    "        metinin satirlarindan olusan listeyi belirtilen satirdan\n",
    "        baslatmamizi saglayan arguman. \n",
    "    \n",
    "    Uyarilar\n",
    "    ------\n",
    "    \n",
    "    ValueError: \n",
    "        Baslangiç satiri okunan dosyanin satir sayisindan fazla ise\n",
    "        bu uyari gosterilir\n",
    "    \n",
    "    \"\"\"\n",
    "    with open( # with 'open' isleminin sonucunda ortaya çikanin omrunu\n",
    "        # belirliyor\n",
    "        # open islemi çikti olarak bize bir dosya objesi sunuyor\n",
    "        # parantezin içinde ise bu islemin argumanlarini goruyoruz.\n",
    "        dosya_yolu, # 1. arguman dosyanin yolu\n",
    "              \"r\", # 2. arguman onun modu\n",
    "        # yani dosyayi okuyacak miyim, onu yazacak miyim\n",
    "        # onun sonuna bir seyler mi ekleyecegim vs vs\n",
    "        encoding=\"utf-8\", # metnin kodlama turu. zorunlu bir arguman degil.\n",
    "        newline=\"\\n\" # metindeki satir ayirici karakterin ne oldugu\n",
    "    ) as fd: # dosya objesine verdigimiz ad.\n",
    "        txt = fd.readlines() # yukarida newline argumaninin degerini \n",
    "        # kullanarak fd dosya objesini satirlarina ayiran islem\n",
    "        # islemin sonucunda [\"1. satir\", \"2. satir\", \"3. satir\"]\n",
    "        # gibi bir çikti geliyor\n",
    "        if len(txt) <= baslama_satiri: # uyariyi vermemizi saglayan kontrol\n",
    "            raise ValueError('Baslangic satiri metin satir sayisindan buyuk')\n",
    "        txt = txt[baslama_satiri:] # python'da liste egzersizinde \n",
    "        # gormus olma ihtimaliniz oldugu gibi\n",
    "        # listeleri dizinlerini kullanarak bolebiliyoruz\n",
    "        # bunu yaparken kullandigimiz ifadenin unsurlari sunlar\n",
    "        # liste_adi[dizin_basi_numarasi:dizin_sonu_numarasi]\n",
    "        txt = [t.strip() for t in txt] # liste içindeki metinlerin sonlarin\n",
    "        # da veya baslarinda kalan bosluklari temizlememizi sagliyor\n",
    "    return txt # metin listesinin son halini disina veriyoruz"
   ]
  },
  {
   "cell_type": "code",
   "execution_count": null,
   "metadata": {
    "collapsed": true
   },
   "outputs": [],
   "source": []
  },
  {
   "cell_type": "markdown",
   "metadata": {},
   "source": [
    "Islemin ozeti su:\n",
    "\n",
    "Dosya yolunda bulanan metni okuma modunda, karakter kodlamasinin `utf-8`, \n",
    "satir ayirici karakterinin de '\\n' oldugunu varsayarak açtim.\n",
    "\n",
    "Onu satirlarina ayirarak okudum, yani programda tayin edebilecegim, bir \n",
    "degisken, metnin içerigini atfettim.\n",
    "\n",
    "Bu atif isleminde bulunurken, metnin \n",
    "içerigini ayni zamanda belirttigim satir ayirici karakter kullanilacak \n",
    "sekilde satirlarina ayirdim.\n",
    "\n",
    "Olusan listede, her satir listenin bir elemanina denk geliyor.\n",
    "\n",
    "Baslangiç satiri argumanindan onceki satirlari satir listesinden attim.\n",
    "\n",
    "Bunu satir listesini, baslangiç satirinin ardindan gelenlerden mutesekkil \n",
    "olacak sekilde bolerek yaptim.\n",
    "\n",
    "Son olarak, her satirdan basindaki ve sonundaki bosluklari attim ve satir listesinin son halini çikti olarak verdim."
   ]
  },
  {
   "cell_type": "markdown",
   "metadata": {},
   "source": [
    "Simdi dosyanin satir satir analizini yapalim:\n",
    "\n",
    "- 1 - Ismi metin oku, argumanlari, dosya_yolu, ve baslangic_satiri olan islemimi taniliyorum\n",
    "\n",
    "- 2 - 4. Yardimci metni baslatip, içine islemimin ozetini koyuyorum.\n",
    "\n",
    "- 6 - 25. Islemimin argumanlarinin ne ise yaradigini ve islemimin \n",
    "    verdigi uyarilari hangi baglamda verdigine dair notlari yardimci metne\n",
    "    koyuyorum.\n",
    "\n",
    "- 25 - Yardimci metni sonlandiriyorum.\n",
    "\n",
    "- 26 - Birkaç seyi birden yapiyorum:\n",
    "    \n",
    "    - Oncelikle metni okuma modunda açiyorum. \n",
    "    \n",
    "    Gostergesi `open(dosya_yolu, \"r\")` islemindeki \"r\". `r` `okuma` (read) modunu ifade ediyor. \n",
    "    Bu modda açtigim dosyada herhangi bir degisiklik yapamam, sadece içindekileri okuyabilirim.\n",
    "     \n",
    "    - Dosyanin karakter kodunu `utf-8` olarak belirtiyorum. \n",
    "       \n",
    "    Gostergesi `encoding=\"utf-8\"`.\n",
    "    Bu makineye karakterlerin nasil yorumlanmasi gerektigini ifade ediyor. \n",
    "    Basitçe konusursak, ornegin `a` karakteri html etiket dilinde `&#97;` koduyla, utf-8'de `U+0061` koduyla, ascii'de `97` koduyla temsil ediliyor. \n",
    "    Makineler esasen 0-1-den baska bir sey bilmiyorlar, ancak her karaktere 0 - 1 atfetmek hiçbir sey olmasa bile çok yer kaplayan bir sureç, dolayisiyla karakterlere çesitli kodlar atfederek onlarin taninmasini kolaylastirmak gerekiyor. \n",
    "    Bu kodlarin referans aldigi sistemler degisiyor. \n",
    "    Modern programlama dillerinin çogu utf-8'i kullaniyor. \n",
    "    Biz de ekseriyetle onu kullanacagiz. \n",
    "    Ama baska seyler gorurseniz de sasirmayin.\n",
    "    \n",
    "    - Metinde bir satirin bittigini gosteren karakteri giriyorum.\n",
    "    \n",
    "    Gostergesi `newline=\"\\n\"`. \n",
    "    Makine haliyle sayfa duzenini bilen bir sey degil. O metinleri soyle \n",
    "    goruyor \n",
    "    \"1.satir uzar giderken sahilde\\n2.satir sessizce gemiler\\n3.satir ...\"\n",
    "    Yani aralara \"\\n\" veya \"\\r\\n\" gibi karakterlerin serpistirildigi\n",
    "    uzayip giden bir karakter zinciri.\n",
    "    \n",
    "    - Olusan dosya objesine `fd` adini veriyorum.\n",
    "    \n",
    "    Gostergesi `... as fd`. \n",
    "    `fd` keyfi bir isim `mahmut`, `dosyam`, `metnim` vs de olabilirdi. \n",
    "    \n",
    "    `fd = open(...)` ile de olusturabilirdim ama kullandigimiz uslubun yararini birazdan gorecegiz.\n",
    "    \n",
    "    - `fd` ye faaliyet alani, kapsam yaratiyorum.\n",
    "    \n",
    "    Gostergesi `with`. \n",
    "    `with` çok kisaca girisi ve çikisi bir prosedur gerektiren objeleri rahat kullanmamizi saglayan bir yapi.\n",
    "    Ornegin dosyayi okumak için açtik. Okuduktan sonra onunla isimiz bitti \n",
    "    dolayisiyla dosyayi kapatmamiz lazim.\n",
    "    Tamam ama su problemler olabilirdi.\n",
    "    Dosyaya erisimimiz olmayabilirdi, yanlis dosya yolu vs dolayisiyla, veya \n",
    "    okuma modunda açmis olmamiza ragmen dosyayi degistirmeye çalisabilirdik.\n",
    "    Burada sorun olan su, bizim dosyaya erisimimizi belirleyen objenin, \n",
    "    yani bize objeyi sunan onu programimiza aktaran objenin, bizim programda \n",
    "    dosya ile yapacaklarimizla bir alakasi yok, olmamalida zaten. \n",
    "    Bu sunun gibi o bize dosyayi istedigimiz kosullarda sunuyor, ondan sonra\n",
    "    da donup gidiyor, biz dosya ile çalisirken hata olmus vs umursamiyor.\n",
    "    Ama ornegin hata olustugunda bizim dosyayi kapatmamiz, yani bize dosyayi\n",
    "    getiren kuryeyi sirketine geri gondermemiz gerekiyor. Bu sikça unutulan \n",
    "    bir sey. Python burada bir kolaylik olarak, `with` ve altinda tanimlanan \n",
    "    blokla diyor ki, sen dosyayi kullanirken hata olsun olmasin, ben bu \n",
    "    altindaki blogun sonuna geldigimde bu `fd` kuryesini geri yollarim, yani\n",
    "    dosyayi erisimimize sunan objeyi kapatirim.\n",
    "    \n",
    "- 27 - `fd`'nin erisimini kontrol ettigi dosyayi satirlarina ayiriyorum. \n",
    "\n",
    "- 28 - Satir sayisinin baslangiç sayisindan kuçuk veya ona esit olup \n",
    "    olmadigini kontrol ediyorum. Eger kuçuk esitse alttaki bloga geçiyorum.\n",
    "    \n",
    "- 29 - Uyariyi mesajiyla beraber yukselterek, islemin ilerleyisini \n",
    "    durduruyorum\n",
    "\n",
    "- 30 - `txt` listesinin elemanlarini `baslangic_satiri`ndan baslayarak seçmek suretiyle yeni liste olusturuyorum.\n",
    "    Olusan yeni listeyi, `txt` degiskenine atiyorum.\n",
    "\n",
    "- 31 - `txt` listesinin her elemanina `strip` islemini uygulayarak yeni bir \n",
    "    lste olusturuyorum, ve bu yeni listeyi `txt` degiskenine atiyorum.\n",
    "\n",
    "- 32 - `txt` degiskenini çikti olarak veriyorum.  "
   ]
  },
  {
   "cell_type": "markdown",
   "metadata": {},
   "source": [
    "Iste çok benzer bir islem daha"
   ]
  },
  {
   "cell_type": "code",
   "execution_count": null,
   "metadata": {
    "collapsed": true
   },
   "outputs": [],
   "source": [
    "with open(filepath, \"r\", encoding=\"utf-8\") as fp:\n",
    "    data = fp.read()  # butun metni birden okuyorum\n",
    "    lines = fp.readlines()  # satir satir okuyorum"
   ]
  },
  {
   "cell_type": "markdown",
   "metadata": {},
   "source": [
    "Yeni olan `data = fp.read()`.\n",
    "\n",
    "Yukarida makinenin metni nasil gordugunden bahsettim. O onu art arda gelen \n",
    "karakterlerden olusan bir zincir olarak goruyor. `read` metni boylesi bir\n",
    "karakter zinciri olarak bir degiskene atamamizi sagliyor. "
   ]
  },
  {
   "cell_type": "markdown",
   "metadata": {},
   "source": [
    "Iste bir islem daha"
   ]
  },
  {
   "cell_type": "code",
   "execution_count": null,
   "metadata": {
    "collapsed": true
   },
   "outputs": [],
   "source": [
    "import json\n",
    "\n",
    "terms = {\"benim\": \"python\", \n",
    "         \"objem\": \"senin\", \n",
    "         \"python\" : \"objeni\"}\n",
    "\n",
    "with open(filepath, \"w\", encoding=\"utf-8\", newline=\"\\n\") as fd:\n",
    "    json.dump(terms, fd, ensure_ascii=False, indent=4)"
   ]
  },
  {
   "cell_type": "markdown",
   "metadata": {},
   "source": [
    "Le `json` bir modul, `dump` islemi bir python objesini json standardinda belirtilen sekliyle bilgisayara kaydetmemizi sagliyorlar. Unutmayalim ki programlar, erisim hizi sebebiyle, bilgisayarin belleginde yasayan seyler, orada kullandigimiz, ve manipule ettigimiz verilere ulasmak istiyorsak onlari sabit diske kaydetmemiz gerekiyor. \n",
    "Json ile ilgili daha fazla bilgi almak için [referansa](https://docs.python.org/3.7/library/json.html) bakiniz.\n",
    "\n",
    "Bizim için yeni olan `fd` nin modu `w`. Bu `w`, yaz (write), modu, eger dosya yoksa olusturup, python nesnesini belirtilen dosya yoluna kaydediyor. \n",
    "Eger belirtilen dosya yolunda bir dosya varsa, onu siliyor. "
   ]
  },
  {
   "cell_type": "markdown",
   "metadata": {},
   "source": [
    "Son islemimiz de su:"
   ]
  },
  {
   "cell_type": "code",
   "execution_count": null,
   "metadata": {
    "collapsed": true
   },
   "outputs": [],
   "source": [
    "with open(dosya_yolu, \"a\", encoding=\"utf-8\") as fd:\n",
    "    mystr = \"hohohohoh\"\n",
    "    fd.write(mystr)"
   ]
  },
  {
   "cell_type": "markdown",
   "metadata": {},
   "source": [
    "Yeni olan `a`, ekleme (append) modu. \n",
    "Bu da hali hazirda eger bir dosya varsa, onun sonuna yeni veriyi ekliyor. Eger yoksa o dosyayi olusturup ona veriyi yaziyor."
   ]
  },
  {
   "cell_type": "code",
   "execution_count": null,
   "metadata": {
    "collapsed": true
   },
   "outputs": [],
   "source": []
  }
 ],
 "metadata": {
  "celltoolbar": "Éditer les Méta-Données",
  "kernelspec": {
   "display_name": "Python 3",
   "language": "python",
   "name": "python3"
  },
  "language_info": {
   "codemirror_mode": {
    "name": "ipython",
    "version": 3
   },
   "file_extension": ".py",
   "mimetype": "text/x-python",
   "name": "python",
   "nbconvert_exporter": "python",
   "pygments_lexer": "ipython3",
   "version": "3.5.2"
  }
 },
 "nbformat": 4,
 "nbformat_minor": 2
}
