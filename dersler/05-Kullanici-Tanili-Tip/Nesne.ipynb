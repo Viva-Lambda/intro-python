{
 "cells": [
  {
   "cell_type": "markdown",
   "metadata": {},
   "source": [
    "# Python: Nesne Temelli Programlama\n",
    "\n",
    "\n",
    "Nesne temelli programlama, bir programlama paradigmasidir. En temelde yaptigi, \n",
    "programin unsularini ve bu unsurlarin iliskilerini gerçek hayattaki nesnelere ve onlarin \n",
    "iliskisine yakinsayarak programin karmasikligini daha yonetilebilir kilmasidir. Esasen bir \n",
    "hesabin tarifi olan program, nesneler arasi etkilesimleri tarif edecek sekilde duzenlenir.\n",
    "Dolayisiyla da duzenleme surecine, sanki matematiksel bir islemler dizisi gerçeklesmiyormus\n",
    "da bir bina yapiliyormus gibi ya da fabrikada bir urun ortaya çikartiliyormus gibi \n",
    "yaklasilabilir olur.\n",
    "\n",
    "Kisaca nesne temelli programlama, programin içerisindeki ya da programlamaya içkin bir \n",
    "degisiklik degildir, yani nesne temelli dedigimizde normalde kullandigimiz islemler ve \n",
    "veriler, yeni bir ozellik kazanmiyorlar ya da hesaplamanin sonucunda olusanin ozellikleri\n",
    "bundan oncesine nazaran yeni bir boyut kazanmiyor. Degisen sey, bizim programi yorumlayis \n",
    "biçimimiz ve onu gelistirme biçimimiz. Yoksa yine makine için dunya birler ve sifirlar.\n",
    "\n",
    "Ilk ornegimizi gorelim:"
   ]
  },
  {
   "cell_type": "code",
   "execution_count": 5,
   "metadata": {},
   "outputs": [
    {
     "name": "stdout",
     "output_type": "stream",
     "text": [
      "Araba toyota modeldir\n",
      "Araba, Konya civarindan Giresun dolaylarina gidiyor.\n"
     ]
    }
   ],
   "source": [
    "class Araba:\n",
    "    def __init__(self, model: str, durduguYer: str):\n",
    "        self.modeli = model\n",
    "        self.yeri = durduguYer\n",
    "        self.teker_sayisi = 4\n",
    "        \n",
    "    \n",
    "    def git(self, hedef: str):\n",
    "        print(\"Araba,\", self.yeri, \"civarindan\", hedef, \"dolaylarina gidiyor.\")\n",
    "        \n",
    "    def modelGoster(self):\n",
    "        print(\"Araba\", self.modeli, \"modeldir\")\n",
    "    \n",
    "arabam = Araba(model=\"toyota\", durduguYer=\"Konya\")\n",
    "arabam.modelGoster()\n",
    "arabam.git(hedef=\"Giresun\")"
   ]
  },
  {
   "cell_type": "markdown",
   "metadata": {},
   "source": [
    "Yukaridaki hucrede gerçeklesen islemler kabaca sunlar. 1. ve 6. satirlar arasinda nesnemin \n",
    "tarifini veriyorum. `__init__` ile baslayan islem ki nesneler baglaminda sinirlanmis bu gibi\n",
    "islemlere metot deniyor, nesnemizin kurucusu, ingilizcesiyle `constructor`. \n",
    "Kurucu bolumunde yer alan ifadeler, metotlara imkan veriyorlar.\n",
    "\n",
    "Yukaridaki ornekte `Araba`nin kurucusunda belirlenen modeline ve yerine sahip olmadan, \n",
    "`git` ve `modelGoster` metotlari çalismazdi, zira bu metotlar kurucunun argumanlarina \n",
    "dayaniyorlar.\n",
    "\n",
    "Peki `self` ne alaka ?\n",
    "\n",
    "`self` esasinda `Araba` ile `arabam` arasindaki farki tesis ediyor. \n",
    "`Araba` bir nesnenin tarifi, `arabam` ise bir nesnenin sekle semale burunmus hali.\n",
    "Ornegin herhangi bir `Araba` herhangi bir modele sahip olup, herhangi bir yerde bulunabilir, \n",
    "bu duruma istinaden model, ve yer parametreleri kurucuya disardan geliyor, yani diyoruz ki\n",
    "her araba bu ozelliklere sahiptir, ancak içerigi degisebilir.\n",
    "Ayni sekilde içerigi degismeyen ozellikleri de, ornegin teker sayisi gibi, kurucuya \n",
    "koyuyoruz.\n",
    "\n",
    "Ancak konu herhangi bir araba degilde benim `arabam` oldugunda durum daha farkli. \n",
    "Benim `arabam` hem toyota, hem suzuki olamaz, ya da hem Konya'da hem Isparta'da olamaz.\n",
    "Yani bir kez `arabam` olustuktan, sekle semale burundukten sonra birden fazla modele, ya da \n",
    "yere sahip olamaz. `self`, bize araba olustuktan sonra kazanacagi ozelliklere erisme \n",
    "imkani veriyor. Arabanin olusmus halinin yerini tutan bir degisken gibi de dusunebiliriz. \n"
   ]
  },
  {
   "cell_type": "code",
   "execution_count": 6,
   "metadata": {},
   "outputs": [
    {
     "name": "stdout",
     "output_type": "stream",
     "text": [
      "Araba, Ordu civarindan Ardahan dolaylarina gidiyor.\n"
     ]
    }
   ],
   "source": [
    "araban = Araba(model=\"suzuki\", durduguYer=\"Ordu\")\n",
    "araban.git(hedef=\"Ardahan\")"
   ]
  },
  {
   "cell_type": "code",
   "execution_count": 7,
   "metadata": {},
   "outputs": [
    {
     "name": "stdout",
     "output_type": "stream",
     "text": [
      "Araba, Yozgat civarindan Afyon dolaylarina gidiyor.\n"
     ]
    }
   ],
   "source": [
    "araban = Araba(model=\"suzuki\", durduguYer=\"Yozgat\")\n",
    "araban.git(hedef=\"Afyon\")"
   ]
  },
  {
   "cell_type": "markdown",
   "metadata": {},
   "source": [
    "## Nesnelerde Kalıtım\n",
    "\n",
    "Farz edelim ki benzer kapasitelere sahip bir grup nesne var. \n",
    "Bu nesnelerin ortaklastigi, ve ayristigi bazi noktalar var.\n",
    "Kalıtım, ortaklastigi noktalari tekrar etmememiz için olusturulmus bir yapı.\n",
    "\n",
    "Ornege bakinca anlasilir olacaktir diye tahmin ediyorum:"
   ]
  },
  {
   "cell_type": "code",
   "execution_count": 8,
   "metadata": {},
   "outputs": [],
   "source": [
    "class Arac:\n",
    "    def __init__(self, tekerlek_sayisi: int, koltuk_sayisi: int):\n",
    "        self.ts = tekerlek_sayisi\n",
    "        self.ks = koltuk_sayisi\n",
    "        \n",
    "    def tekerlek_sayisini_goster(self):\n",
    "        print('Aracin tekerlek sayisi:', self.ts)\n",
    "        \n",
    "    def koltuk_sayisini_goster(self):\n",
    "        print(\"Aracin koltuk sayisi:\", self.ks)\n",
    "        \n",
    "class Bisiklet(Arac):\n",
    "    def __init__(self, termoslu_mu: bool):\n",
    "        super().__init__(tekerlek_sayisi=2, koltuk_sayisi=1)\n",
    "        self.termos = termoslu_mu\n",
    "        \n",
    "    def termos_var_mi(self):\n",
    "        print(\"Bisikletin termosu var desem \", self.termos, \" olur.\")\n",
    "        \n",
    "class Araba(Arac):\n",
    "    def __init__(self, klimali_mi: bool):\n",
    "        super().__init__(tekerlek_sayisi=4, koltuk_sayisi=5)\n",
    "        self.klimali = klimali_mi\n",
    "        \n",
    "    def klima_var_mi(self):\n",
    "        print(\"Arabanin klimasi var desem\", self.klimali, \" olur.\")\n",
    "        "
   ]
  },
  {
   "cell_type": "code",
   "execution_count": 9,
   "metadata": {},
   "outputs": [
    {
     "name": "stdout",
     "output_type": "stream",
     "text": [
      "Aracin koltuk sayisi: 8446486\n"
     ]
    }
   ],
   "source": [
    "aracim = Arac(tekerlek_sayisi=432, koltuk_sayisi=8446486)\n",
    "aracim.koltuk_sayisini_goster()"
   ]
  },
  {
   "cell_type": "code",
   "execution_count": 10,
   "metadata": {},
   "outputs": [
    {
     "name": "stdout",
     "output_type": "stream",
     "text": [
      "Bisikletin termosu var desem  True  olur.\n",
      "Aracin koltuk sayisi: 1\n"
     ]
    }
   ],
   "source": [
    "bisikletim = Bisiklet(termoslu_mu=True)\n",
    "bisikletim.termos_var_mi()\n",
    "bisikletim.koltuk_sayisini_goster()"
   ]
  },
  {
   "cell_type": "code",
   "execution_count": 13,
   "metadata": {},
   "outputs": [
    {
     "name": "stdout",
     "output_type": "stream",
     "text": [
      "Arabanin klimasi var desem False  olur.\n",
      "Aracin tekerlek sayisi: 4\n"
     ]
    }
   ],
   "source": [
    "arabam = Araba(klimali_mi=False)\n",
    "arabam.klima_var_mi()\n",
    "arabam.tekerlek_sayisini_goster()"
   ]
  },
  {
   "cell_type": "code",
   "execution_count": null,
   "metadata": {},
   "outputs": [],
   "source": []
  }
 ],
 "metadata": {
  "kernelspec": {
   "display_name": "Python 3",
   "language": "python",
   "name": "python3"
  },
  "language_info": {
   "codemirror_mode": {
    "name": "ipython",
    "version": 3
   },
   "file_extension": ".py",
   "mimetype": "text/x-python",
   "name": "python",
   "nbconvert_exporter": "python",
   "pygments_lexer": "ipython3",
   "version": "3.7.6"
  }
 },
 "nbformat": 4,
 "nbformat_minor": 2
}
